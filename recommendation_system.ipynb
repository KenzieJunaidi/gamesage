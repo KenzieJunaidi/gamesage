{
 "cells": [
  {
   "cell_type": "code",
   "execution_count": 24,
   "id": "ecc1bac8",
   "metadata": {},
   "outputs": [],
   "source": [
    "# Import Libraries\n",
    "import json\n",
    "import pandas as pd\n",
    "import pickle\n",
    "\n",
    "import numpy as np\n",
    "import matplotlib.pyplot as plt\n",
    "import seaborn as sns\n",
    "\n",
    "from sklearn.feature_extraction.text import TfidfVectorizer\n",
    "from sklearn.preprocessing import MultiLabelBinarizer\n",
    "from sklearn.neighbors import NearestNeighbors\n",
    "from sklearn.metrics.pairwise import cosine_similarity\n",
    "from scipy.sparse import hstack, csr_matrix\n",
    "\n",
    "from sentence_transformers import SentenceTransformer\n",
    "\n",
    "import warnings\n",
    "warnings.filterwarnings('ignore')"
   ]
  },
  {
   "cell_type": "code",
   "execution_count": 25,
   "id": "bd063720",
   "metadata": {},
   "outputs": [
    {
     "data": {
      "text/html": [
       "<div>\n",
       "<style scoped>\n",
       "    .dataframe tbody tr th:only-of-type {\n",
       "        vertical-align: middle;\n",
       "    }\n",
       "\n",
       "    .dataframe tbody tr th {\n",
       "        vertical-align: top;\n",
       "    }\n",
       "\n",
       "    .dataframe thead th {\n",
       "        text-align: right;\n",
       "    }\n",
       "</style>\n",
       "<table border=\"1\" class=\"dataframe\">\n",
       "  <thead>\n",
       "    <tr style=\"text-align: right;\">\n",
       "      <th></th>\n",
       "      <th>name</th>\n",
       "      <th>release_date</th>\n",
       "      <th>price</th>\n",
       "      <th>short_description</th>\n",
       "      <th>header_image</th>\n",
       "      <th>genres</th>\n",
       "      <th>tags</th>\n",
       "      <th>screenshots</th>\n",
       "      <th>movies</th>\n",
       "      <th>review_count</th>\n",
       "      <th>review_score_text</th>\n",
       "      <th>review_score</th>\n",
       "      <th>platforms</th>\n",
       "      <th>developers</th>\n",
       "      <th>publishers</th>\n",
       "    </tr>\n",
       "  </thead>\n",
       "  <tbody>\n",
       "    <tr>\n",
       "      <th>10</th>\n",
       "      <td>Counter-Strike</td>\n",
       "      <td>1 Nov, 2000</td>\n",
       "      <td>69999.0</td>\n",
       "      <td>Play the world's number 1 online action game. ...</td>\n",
       "      <td>https://shared.akamai.steamstatic.com/store_it...</td>\n",
       "      <td>[Action]</td>\n",
       "      <td>[Multi-player, PvP, Online PvP, Shared/Split S...</td>\n",
       "      <td>[https://shared.akamai.steamstatic.com/store_i...</td>\n",
       "      <td>[]</td>\n",
       "      <td>158708</td>\n",
       "      <td>Overwhelmingly Positive</td>\n",
       "      <td>8</td>\n",
       "      <td>[windows, mac, linux]</td>\n",
       "      <td>[Valve]</td>\n",
       "      <td>[Valve]</td>\n",
       "    </tr>\n",
       "    <tr>\n",
       "      <th>20</th>\n",
       "      <td>Team Fortress Classic</td>\n",
       "      <td>1 Apr, 1999</td>\n",
       "      <td>47499.0</td>\n",
       "      <td>One of the most popular online action games of...</td>\n",
       "      <td>https://shared.akamai.steamstatic.com/store_it...</td>\n",
       "      <td>[Action]</td>\n",
       "      <td>[Multi-player, PvP, Online PvP, Shared/Split S...</td>\n",
       "      <td>[https://shared.akamai.steamstatic.com/store_i...</td>\n",
       "      <td>[]</td>\n",
       "      <td>6492</td>\n",
       "      <td>Very Positive</td>\n",
       "      <td>7</td>\n",
       "      <td>[windows, mac, linux]</td>\n",
       "      <td>[Valve]</td>\n",
       "      <td>[Valve]</td>\n",
       "    </tr>\n",
       "    <tr>\n",
       "      <th>30</th>\n",
       "      <td>Day of Defeat</td>\n",
       "      <td>1 May, 2003</td>\n",
       "      <td>47499.0</td>\n",
       "      <td>Enlist in an intense brand of Axis vs. Allied ...</td>\n",
       "      <td>https://shared.akamai.steamstatic.com/store_it...</td>\n",
       "      <td>[Action]</td>\n",
       "      <td>[Multi-player, Valve Anti-Cheat enabled, Famil...</td>\n",
       "      <td>[https://shared.akamai.steamstatic.com/store_i...</td>\n",
       "      <td>[]</td>\n",
       "      <td>4234</td>\n",
       "      <td>Very Positive</td>\n",
       "      <td>7</td>\n",
       "      <td>[windows, mac, linux]</td>\n",
       "      <td>[Valve]</td>\n",
       "      <td>[Valve]</td>\n",
       "    </tr>\n",
       "    <tr>\n",
       "      <th>40</th>\n",
       "      <td>Deathmatch Classic</td>\n",
       "      <td>1 Jun, 2001</td>\n",
       "      <td>47499.0</td>\n",
       "      <td>Enjoy fast-paced multiplayer gaming with Death...</td>\n",
       "      <td>https://shared.akamai.steamstatic.com/store_it...</td>\n",
       "      <td>[Action]</td>\n",
       "      <td>[Multi-player, PvP, Online PvP, Shared/Split S...</td>\n",
       "      <td>[https://shared.akamai.steamstatic.com/store_i...</td>\n",
       "      <td>[]</td>\n",
       "      <td>2291</td>\n",
       "      <td>Very Positive</td>\n",
       "      <td>7</td>\n",
       "      <td>[windows, mac, linux]</td>\n",
       "      <td>[Valve]</td>\n",
       "      <td>[Valve]</td>\n",
       "    </tr>\n",
       "    <tr>\n",
       "      <th>50</th>\n",
       "      <td>Half-Life: Opposing Force</td>\n",
       "      <td>1 Nov, 1999</td>\n",
       "      <td>47499.0</td>\n",
       "      <td>Return to the Black Mesa Research Facility as ...</td>\n",
       "      <td>https://shared.akamai.steamstatic.com/store_it...</td>\n",
       "      <td>[Action]</td>\n",
       "      <td>[Single-player, Multi-player, Valve Anti-Cheat...</td>\n",
       "      <td>[https://shared.akamai.steamstatic.com/store_i...</td>\n",
       "      <td>[]</td>\n",
       "      <td>21741</td>\n",
       "      <td>Overwhelmingly Positive</td>\n",
       "      <td>8</td>\n",
       "      <td>[windows, mac, linux]</td>\n",
       "      <td>[Gearbox Software]</td>\n",
       "      <td>[Valve]</td>\n",
       "    </tr>\n",
       "  </tbody>\n",
       "</table>\n",
       "</div>"
      ],
      "text/plain": [
       "                         name release_date    price  \\\n",
       "10             Counter-Strike  1 Nov, 2000  69999.0   \n",
       "20      Team Fortress Classic  1 Apr, 1999  47499.0   \n",
       "30              Day of Defeat  1 May, 2003  47499.0   \n",
       "40         Deathmatch Classic  1 Jun, 2001  47499.0   \n",
       "50  Half-Life: Opposing Force  1 Nov, 1999  47499.0   \n",
       "\n",
       "                                    short_description  \\\n",
       "10  Play the world's number 1 online action game. ...   \n",
       "20  One of the most popular online action games of...   \n",
       "30  Enlist in an intense brand of Axis vs. Allied ...   \n",
       "40  Enjoy fast-paced multiplayer gaming with Death...   \n",
       "50  Return to the Black Mesa Research Facility as ...   \n",
       "\n",
       "                                         header_image    genres  \\\n",
       "10  https://shared.akamai.steamstatic.com/store_it...  [Action]   \n",
       "20  https://shared.akamai.steamstatic.com/store_it...  [Action]   \n",
       "30  https://shared.akamai.steamstatic.com/store_it...  [Action]   \n",
       "40  https://shared.akamai.steamstatic.com/store_it...  [Action]   \n",
       "50  https://shared.akamai.steamstatic.com/store_it...  [Action]   \n",
       "\n",
       "                                                 tags  \\\n",
       "10  [Multi-player, PvP, Online PvP, Shared/Split S...   \n",
       "20  [Multi-player, PvP, Online PvP, Shared/Split S...   \n",
       "30  [Multi-player, Valve Anti-Cheat enabled, Famil...   \n",
       "40  [Multi-player, PvP, Online PvP, Shared/Split S...   \n",
       "50  [Single-player, Multi-player, Valve Anti-Cheat...   \n",
       "\n",
       "                                          screenshots movies  review_count  \\\n",
       "10  [https://shared.akamai.steamstatic.com/store_i...     []        158708   \n",
       "20  [https://shared.akamai.steamstatic.com/store_i...     []          6492   \n",
       "30  [https://shared.akamai.steamstatic.com/store_i...     []          4234   \n",
       "40  [https://shared.akamai.steamstatic.com/store_i...     []          2291   \n",
       "50  [https://shared.akamai.steamstatic.com/store_i...     []         21741   \n",
       "\n",
       "          review_score_text  review_score              platforms  \\\n",
       "10  Overwhelmingly Positive             8  [windows, mac, linux]   \n",
       "20            Very Positive             7  [windows, mac, linux]   \n",
       "30            Very Positive             7  [windows, mac, linux]   \n",
       "40            Very Positive             7  [windows, mac, linux]   \n",
       "50  Overwhelmingly Positive             8  [windows, mac, linux]   \n",
       "\n",
       "            developers publishers  \n",
       "10             [Valve]    [Valve]  \n",
       "20             [Valve]    [Valve]  \n",
       "30             [Valve]    [Valve]  \n",
       "40             [Valve]    [Valve]  \n",
       "50  [Gearbox Software]    [Valve]  "
      ]
     },
     "execution_count": 25,
     "metadata": {},
     "output_type": "execute_result"
    }
   ],
   "source": [
    "# Step 1 : Read File\n",
    "with open('assets/steam_games_backup.json', 'r') as file:\n",
    "  data = json.load(file)\n",
    "\n",
    "df = pd.DataFrame.from_dict(data, orient='index')\n",
    "\n",
    "df.head(5)"
   ]
  },
  {
   "cell_type": "code",
   "execution_count": 26,
   "id": "8ed966f3",
   "metadata": {},
   "outputs": [
    {
     "name": "stdout",
     "output_type": "stream",
     "text": [
      "6004\n"
     ]
    }
   ],
   "source": [
    "# Lihat Jumlah Data\n",
    "print(len(df))"
   ]
  },
  {
   "cell_type": "code",
   "execution_count": 27,
   "id": "f3a2b1c1",
   "metadata": {},
   "outputs": [
    {
     "name": "stdout",
     "output_type": "stream",
     "text": [
      "Total duplicate entries: 2\n",
      "2676180    Fog of War\n",
      "574080     Fog of War\n",
      "Name: name, dtype: object\n"
     ]
    }
   ],
   "source": [
    "# Cek Duplikat\n",
    "duplicates = df[df.duplicated(subset='name', keep=False)]\n",
    "\n",
    "print(f\"Total duplicate entries: {len(duplicates)}\")\n",
    "print(duplicates['name'])"
   ]
  },
  {
   "cell_type": "code",
   "execution_count": 28,
   "id": "f346afc1",
   "metadata": {},
   "outputs": [],
   "source": [
    "# Drop Duplikat\n",
    "index_to_drop = df[df['name'] == 'Fog of War'].index[0]\n",
    "df = df.drop(index_to_drop)"
   ]
  },
  {
   "cell_type": "code",
   "execution_count": 29,
   "id": "a2c17e93",
   "metadata": {},
   "outputs": [
    {
     "name": "stdout",
     "output_type": "stream",
     "text": [
      "Total duplicate entries: 0\n",
      "Series([], Name: name, dtype: object)\n"
     ]
    }
   ],
   "source": [
    "duplicates = df[df.duplicated(subset='name', keep=False)]\n",
    "\n",
    "print(f\"Total duplicate entries: {len(duplicates)}\")\n",
    "print(duplicates['name'])"
   ]
  },
  {
   "cell_type": "code",
   "execution_count": 30,
   "id": "8ce2e5b1",
   "metadata": {},
   "outputs": [
    {
     "data": {
      "text/plain": [
       "name                 0.0\n",
       "release_date         0.0\n",
       "price                0.0\n",
       "short_description    0.0\n",
       "header_image         0.0\n",
       "genres               0.0\n",
       "tags                 0.0\n",
       "screenshots          0.0\n",
       "movies               0.0\n",
       "review_count         0.0\n",
       "review_score_text    0.0\n",
       "review_score         0.0\n",
       "platforms            0.0\n",
       "developers           0.0\n",
       "publishers           0.0\n",
       "dtype: float64"
      ]
     },
     "execution_count": 30,
     "metadata": {},
     "output_type": "execute_result"
    }
   ],
   "source": [
    "# Cek N/A Values\n",
    "missing = df.isna().sum() / len(df) * 100\n",
    "missing"
   ]
  },
  {
   "cell_type": "code",
   "execution_count": 31,
   "id": "c75a4392",
   "metadata": {},
   "outputs": [
    {
     "name": "stdout",
     "output_type": "stream",
     "text": [
      "name                 0.000000\n",
      "release_date         0.000000\n",
      "price                0.000000\n",
      "short_description    0.000000\n",
      "header_image         0.000000\n",
      "genres               0.266533\n",
      "tags                 0.000000\n",
      "screenshots          0.033317\n",
      "movies               6.446777\n",
      "review_count         0.000000\n",
      "review_score_text    0.000000\n",
      "review_score         0.000000\n",
      "platforms            0.000000\n",
      "developers           0.199900\n",
      "publishers           0.666333\n",
      "dtype: float64\n"
     ]
    }
   ],
   "source": [
    "# Cek Empty List\n",
    "def check_empty(value):\n",
    "    return isinstance(value, list) and len(value) == 0\n",
    "\n",
    "empty = df.applymap(check_empty).sum()\n",
    "\n",
    "percentage_empty = (empty / len(df)) * 100\n",
    "print(percentage_empty)"
   ]
  },
  {
   "cell_type": "code",
   "execution_count": 32,
   "id": "5d7e93c2",
   "metadata": {},
   "outputs": [
    {
     "data": {
      "text/plain": [
       "genres\n",
       "Indie        3829\n",
       "Action       2610\n",
       "Adventure    2545\n",
       "Name: count, dtype: int64"
      ]
     },
     "execution_count": 32,
     "metadata": {},
     "output_type": "execute_result"
    }
   ],
   "source": [
    "# Cek top values untuk fitur-fitur\n",
    "df['genres'].explode().value_counts().head(3)"
   ]
  },
  {
   "cell_type": "code",
   "execution_count": 33,
   "id": "f73d6b82",
   "metadata": {},
   "outputs": [
    {
     "data": {
      "text/plain": [
       "tags\n",
       "Single-player         5728\n",
       "Family Sharing        5727\n",
       "Steam Achievements    4333\n",
       "Name: count, dtype: int64"
      ]
     },
     "execution_count": 33,
     "metadata": {},
     "output_type": "execute_result"
    }
   ],
   "source": [
    "df['tags'].explode().value_counts().head(3)"
   ]
  },
  {
   "cell_type": "code",
   "execution_count": 34,
   "id": "bc5bd090",
   "metadata": {},
   "outputs": [
    {
     "data": {
      "text/plain": [
       "developers\n",
       "Square Enix                   37\n",
       "Valve                         27\n",
       "KOEI TECMO GAMES CO., LTD.    25\n",
       "Name: count, dtype: int64"
      ]
     },
     "execution_count": 34,
     "metadata": {},
     "output_type": "execute_result"
    }
   ],
   "source": [
    "df['developers'].explode().value_counts().head(3)"
   ]
  },
  {
   "cell_type": "code",
   "execution_count": 35,
   "id": "8bea3fbb",
   "metadata": {},
   "outputs": [
    {
     "data": {
      "text/plain": [
       "publishers\n",
       "SEGA           55\n",
       "Square Enix    52\n",
       "THQ Nordic     45\n",
       "Name: count, dtype: int64"
      ]
     },
     "execution_count": 35,
     "metadata": {},
     "output_type": "execute_result"
    }
   ],
   "source": [
    "df['publishers'].explode().value_counts().head(3)"
   ]
  },
  {
   "cell_type": "code",
   "execution_count": 36,
   "id": "74b9adbb",
   "metadata": {},
   "outputs": [
    {
     "data": {
      "text/html": [
       "<div>\n",
       "<style scoped>\n",
       "    .dataframe tbody tr th:only-of-type {\n",
       "        vertical-align: middle;\n",
       "    }\n",
       "\n",
       "    .dataframe tbody tr th {\n",
       "        vertical-align: top;\n",
       "    }\n",
       "\n",
       "    .dataframe thead th {\n",
       "        text-align: right;\n",
       "    }\n",
       "</style>\n",
       "<table border=\"1\" class=\"dataframe\">\n",
       "  <thead>\n",
       "    <tr style=\"text-align: right;\">\n",
       "      <th></th>\n",
       "      <th>name</th>\n",
       "      <th>short_description</th>\n",
       "      <th>genres</th>\n",
       "      <th>tags</th>\n",
       "      <th>platforms</th>\n",
       "      <th>developers</th>\n",
       "      <th>publishers</th>\n",
       "    </tr>\n",
       "  </thead>\n",
       "  <tbody>\n",
       "    <tr>\n",
       "      <th>10</th>\n",
       "      <td>counter-strike</td>\n",
       "      <td>play the world's number 1 online action game. ...</td>\n",
       "      <td>[action]</td>\n",
       "      <td>[multi-player, pvp, online pvp, shared/split s...</td>\n",
       "      <td>[windows, mac, linux]</td>\n",
       "      <td>[valve]</td>\n",
       "      <td>[valve]</td>\n",
       "    </tr>\n",
       "    <tr>\n",
       "      <th>20</th>\n",
       "      <td>team fortress classic</td>\n",
       "      <td>one of the most popular online action games of...</td>\n",
       "      <td>[action]</td>\n",
       "      <td>[multi-player, pvp, online pvp, shared/split s...</td>\n",
       "      <td>[windows, mac, linux]</td>\n",
       "      <td>[valve]</td>\n",
       "      <td>[valve]</td>\n",
       "    </tr>\n",
       "    <tr>\n",
       "      <th>30</th>\n",
       "      <td>day of defeat</td>\n",
       "      <td>enlist in an intense brand of axis vs. allied ...</td>\n",
       "      <td>[action]</td>\n",
       "      <td>[multi-player, valve anti-cheat enabled, famil...</td>\n",
       "      <td>[windows, mac, linux]</td>\n",
       "      <td>[valve]</td>\n",
       "      <td>[valve]</td>\n",
       "    </tr>\n",
       "    <tr>\n",
       "      <th>40</th>\n",
       "      <td>deathmatch classic</td>\n",
       "      <td>enjoy fast-paced multiplayer gaming with death...</td>\n",
       "      <td>[action]</td>\n",
       "      <td>[multi-player, pvp, online pvp, shared/split s...</td>\n",
       "      <td>[windows, mac, linux]</td>\n",
       "      <td>[valve]</td>\n",
       "      <td>[valve]</td>\n",
       "    </tr>\n",
       "    <tr>\n",
       "      <th>50</th>\n",
       "      <td>half-life: opposing force</td>\n",
       "      <td>return to the black mesa research facility as ...</td>\n",
       "      <td>[action]</td>\n",
       "      <td>[single-player, multi-player, valve anti-cheat...</td>\n",
       "      <td>[windows, mac, linux]</td>\n",
       "      <td>[gearbox software]</td>\n",
       "      <td>[valve]</td>\n",
       "    </tr>\n",
       "  </tbody>\n",
       "</table>\n",
       "</div>"
      ],
      "text/plain": [
       "                         name  \\\n",
       "10             counter-strike   \n",
       "20      team fortress classic   \n",
       "30              day of defeat   \n",
       "40         deathmatch classic   \n",
       "50  half-life: opposing force   \n",
       "\n",
       "                                    short_description    genres  \\\n",
       "10  play the world's number 1 online action game. ...  [action]   \n",
       "20  one of the most popular online action games of...  [action]   \n",
       "30  enlist in an intense brand of axis vs. allied ...  [action]   \n",
       "40  enjoy fast-paced multiplayer gaming with death...  [action]   \n",
       "50  return to the black mesa research facility as ...  [action]   \n",
       "\n",
       "                                                 tags              platforms  \\\n",
       "10  [multi-player, pvp, online pvp, shared/split s...  [windows, mac, linux]   \n",
       "20  [multi-player, pvp, online pvp, shared/split s...  [windows, mac, linux]   \n",
       "30  [multi-player, valve anti-cheat enabled, famil...  [windows, mac, linux]   \n",
       "40  [multi-player, pvp, online pvp, shared/split s...  [windows, mac, linux]   \n",
       "50  [single-player, multi-player, valve anti-cheat...  [windows, mac, linux]   \n",
       "\n",
       "            developers publishers  \n",
       "10             [valve]    [valve]  \n",
       "20             [valve]    [valve]  \n",
       "30             [valve]    [valve]  \n",
       "40             [valve]    [valve]  \n",
       "50  [gearbox software]    [valve]  "
      ]
     },
     "execution_count": 36,
     "metadata": {},
     "output_type": "execute_result"
    }
   ],
   "source": [
    "# 1. Drop kolom yang tidak digunakan dalam model\n",
    "data_df = df.drop(columns=['release_date', 'price', 'header_image', 'screenshots', 'movies', 'review_count', 'review_score_text', 'review_score'], axis=1)\n",
    "\n",
    "# 2. Normalisasi text menjadi lowercase dan strip spasi\n",
    "data_df['name'] = data_df['name'].str.lower().str.strip()\n",
    "data_df['short_description'] = data_df['short_description'].str.lower().str.strip()\n",
    "\n",
    "# 3. Mengubah list menjadi string yang dipisah oleh koma\n",
    "data_df['genres'] = data_df['genres'].apply(lambda x: [g.lower() for g in x])\n",
    "data_df['tags'] = data_df['tags'].apply(lambda x: [g.lower() for g in x])\n",
    "data_df['platforms'] = data_df['platforms'].apply(lambda x: [g.lower() for g in x])\n",
    "data_df['developers'] = data_df['developers'].apply(lambda x: [g.lower() for g in x])\n",
    "data_df['publishers'] = data_df['publishers'].apply(lambda x: [g.lower() for g in x])\n",
    "\n",
    "data_df.head(5)"
   ]
  },
  {
   "cell_type": "markdown",
   "id": "2d57d241",
   "metadata": {},
   "source": [
    "\n",
    "\n",
    "---\n",
    "\n",
    "**Modeling - Content-based Filtering**\n",
    "\n",
    "Fitur yang akan Digunakan:\n",
    "\n",
    "- name\n",
    "\n",
    "- short_description\n",
    "\n",
    "- genres\n",
    "\n",
    "- tags\n",
    "\n",
    "- platforms\n",
    "\n",
    "- developers\n",
    "\n",
    "- publishers\n",
    "\n",
    "\n",
    "Fitur untuk Filtering:\n",
    "\n",
    "- release_date\n",
    "\n",
    "- price\n",
    "\n",
    "- review_count\n",
    "\n",
    "- review_score_text\n",
    "\n",
    "- review_score"
   ]
  },
  {
   "cell_type": "code",
   "execution_count": 37,
   "id": "cbbd521b",
   "metadata": {},
   "outputs": [],
   "source": [
    "def create_features(df):\n",
    "    # Mengubah teks menjadi vektor yang merepresentasikan makna kalimat\n",
    "    # Menggunakan SentenceTransformer agar bisa memahami makna kalimat secara keseluruhan (Kontekstual)\n",
    "    sbert_model = SentenceTransformer('all-MiniLM-L6-v2')\n",
    "\n",
    "    desc_embeddings = sbert_model.encode(df['short_description'])\n",
    "    # Mengubah ke sparse matrix agar lebih hemat memori\n",
    "    desc_matrix = csr_matrix(desc_embeddings)\n",
    "\n",
    "    name_embeddings = sbert_model.encode(df['name'])\n",
    "    name_matrix = csr_matrix(name_embeddings)\n",
    "\n",
    "    # MultiLabelBinarizer untuk 'genres', 'tags', 'platforms', 'developers', 'publishers'\n",
    "    # Mengubah teks menjadi vektor angka 0-1 dimana 1 artinya memiliki, dan 0 tidak memiliki fitur tersebut\n",
    "    mlb_genres = MultiLabelBinarizer()\n",
    "    genres_encoded = mlb_genres.fit_transform(df['genres'])\n",
    "\n",
    "    mlb_tags = MultiLabelBinarizer()\n",
    "    tags_encoded = mlb_tags.fit_transform(df['tags'])\n",
    "\n",
    "    mlb_platforms = MultiLabelBinarizer()\n",
    "    platforms_encoded = mlb_platforms.fit_transform(df['platforms'])\n",
    "\n",
    "    mlb_developers = MultiLabelBinarizer()\n",
    "    developers_encoded = mlb_developers.fit_transform(df['developers'])\n",
    "\n",
    "    mlb_publishers = MultiLabelBinarizer()\n",
    "    publishers_encoded = mlb_publishers.fit_transform(df['publishers'])\n",
    "\n",
    "    # Diberi bobot untuk fitur-fitur yang dirasa lebih penting untuk rekomendasi\n",
    "    weighted_names = name_matrix * 1.5\n",
    "    weighted_desc = desc_matrix * 1.25\n",
    "    weighted_genres = genres_encoded * 1.25\n",
    "    weighted_tags = tags_encoded * 1.0\n",
    "    weighted_platforms = platforms_encoded * 0.2\n",
    "    weighted_developers = developers_encoded * 0.75\n",
    "    weighted_publishers = publishers_encoded * 0.5\n",
    "\n",
    "    # Gabungkan vektor-vektor yang sudah dibobot kedalam 1 matrix besar\n",
    "    combined_features = hstack([weighted_names, weighted_desc, weighted_genres, weighted_tags, weighted_platforms, weighted_developers, weighted_publishers])\n",
    "\n",
    "    return combined_features\n",
    "\n",
    "combined_features = create_features(data_df)"
   ]
  },
  {
   "cell_type": "code",
   "execution_count": 38,
   "id": "1a72e405",
   "metadata": {},
   "outputs": [],
   "source": [
    "# Save kedalam npz file agar dapat digunakan dalam app.py\n",
    "from scipy.sparse import save_npz\n",
    "save_npz('combined_features.npz', combined_features)"
   ]
  },
  {
   "cell_type": "code",
   "execution_count": null,
   "id": "42718267",
   "metadata": {},
   "outputs": [
    {
     "name": "stdout",
     "output_type": "stream",
     "text": [
      "Best Parameters: {'n_neighbors': 20, 'metric': 'cosine', 'algorithm': 'brute'}\n"
     ]
    }
   ],
   "source": [
    "# Konversi COO ke CSR sebelum fit dan indexing\n",
    "# KNN butuh CSR untuk indexing cepat\n",
    "combined_features_csr = combined_features.tocsr()\n",
    "\n",
    "param_grid = {\n",
    "    'metric': ['cosine', 'euclidean', 'manhattan'],\n",
    "    'algorithm': ['brute', 'auto']\n",
    "}\n",
    "\n",
    "best_score = -1\n",
    "best_model = None\n",
    "best_params = None\n",
    "\n",
    "n_neighbors = 20\n",
    "sample_indices = [0, 5, 10, 20, 50]\n",
    "\n",
    "# Looping untuk mencari kombinasi parameter terbaik \n",
    "for metric in param_grid['metric']:\n",
    "    for algo in param_grid['algorithm']:\n",
    "        try:\n",
    "            model = NearestNeighbors(n_neighbors=n_neighbors, metric=metric, algorithm=algo)\n",
    "            model.fit(combined_features_csr)\n",
    "\n",
    "            total_sim = 0\n",
    "            count = 0\n",
    "\n",
    "            for idx in sample_indices:\n",
    "                distances, indices = model.kneighbors(combined_features_csr[idx:idx+1])\n",
    "\n",
    "                for i in indices[0][1:]:\n",
    "                    sim = cosine_similarity(combined_features_csr[idx:idx+1], combined_features_csr[i:i+1])[0][0]\n",
    "                    total_sim += sim\n",
    "                    count += 1\n",
    "\n",
    "            avg_sim = total_sim / count if count else 0\n",
    "\n",
    "            print(f\"Metric: {metric}, Algorithm: {algo}, Avg Similarity: {avg_sim:.4f}\")\n",
    "\n",
    "            if avg_sim > best_score:\n",
    "                best_score = avg_sim\n",
    "                best_model = model\n",
    "                best_params = {\n",
    "                    'n_neighbors': n_neighbors,\n",
    "                    'metric': metric,\n",
    "                    'algorithm': algo\n",
    "                }\n",
    "\n",
    "        except Exception as e:\n",
    "            print(f\"Error with metric={metric}, algo={algo}: {e}\")\n",
    "\n",
    "# Save kedalam pkl file agar dapat digunakan dalam app.py\n",
    "with open('knn_game_model_tuned.pkl', 'wb') as file:\n",
    "    pickle.dump(best_model, file)\n",
    "\n",
    "print(f\"Best Parameters: {best_params}\")"
   ]
  },
  {
   "cell_type": "code",
   "execution_count": 55,
   "id": "72fdef2d",
   "metadata": {},
   "outputs": [
    {
     "name": "stdout",
     "output_type": "stream",
     "text": [
      "Game Input: fallout 3\n",
      "                                                 name  similarity\n",
      "0                fallout 3 - game of the year edition    0.741061\n",
      "1                      the elder scrolls iv: oblivion    0.608068\n",
      "2                                           fallout 4    0.595366\n",
      "3                                  atom rpg trudograd    0.584909\n",
      "4                    the elder scrolls iii: morrowind    0.581858\n",
      "5                                  fallout: new vegas    0.561016\n",
      "6                       final fantasy iii (3d remake)    0.554117\n",
      "7                        final fantasy iv (3d remake)    0.547484\n",
      "8                                final fantasy xiii-2    0.539578\n",
      "9                                         dream quest    0.525206\n",
      "10                                         silverfall    0.522412\n",
      "11                         zanki zero: last beginning    0.516929\n",
      "12                                   dungeon dreams 2    0.515947\n",
      "13                            start again: a prologue    0.505551\n",
      "14                                       dragon ruins    0.505373\n",
      "15  atelier lydie & suelle ~the alchemists and the...    0.502927\n",
      "16                                        didnapper 2    0.501696\n",
      "17                                 final fantasy xiii    0.500540\n",
      "18                                    beyond divinity    0.496979\n",
      "19                                    blue reflection    0.496770\n"
     ]
    }
   ],
   "source": [
    "def recommend_games_knn(game_title, df, model, combined_features_csr, top_n=20):\n",
    "    game_title = game_title.lower()\n",
    "\n",
    "    # Cek apakah ada gamenya\n",
    "    if df['name'].eq(game_title).any():\n",
    "        idx = df[df['name'] == game_title].index[0]\n",
    "        row_number = df.index.get_loc(idx)\n",
    "    else:\n",
    "        print(f\"Game '{game_title}' not found in the dataset.\")\n",
    "        return None\n",
    "\n",
    "    # Inisialisasi model KNN\n",
    "    distances, indices = model.kneighbors(combined_features_csr[row_number], n_neighbors=top_n + 1)\n",
    "\n",
    "    # Skip index pertama (gamenya sendiri)\n",
    "    recommended_indices = indices[0][1:]\n",
    "    recommended_distances = distances[0][1:]\n",
    "\n",
    "    # Kalkulasi similarity score\n",
    "    similarity_scores = 1 - recommended_distances\n",
    "\n",
    "    recommended_games = df.iloc[recommended_indices][['name']].copy()\n",
    "    recommended_games['similarity'] = similarity_scores\n",
    "\n",
    "    return recommended_games.reset_index(drop=True)\n",
    "\n",
    "search_game = \"fallout 3\"\n",
    "recommendations = recommend_games_knn(search_game, data_df, best_model, combined_features_csr)\n",
    "print(f\"Game Input: {search_game}\")\n",
    "print(recommendations)"
   ]
  },
  {
   "cell_type": "code",
   "execution_count": 41,
   "id": "fe674252",
   "metadata": {},
   "outputs": [
    {
     "name": "stdout",
     "output_type": "stream",
     "text": [
      "Random game: ground control anthology\n"
     ]
    }
   ],
   "source": [
    "# Generate random game\n",
    "import random\n",
    "\n",
    "random_name = data_df['name'].sample(1).values[0]\n",
    "print(\"Random game:\", random_name)"
   ]
  },
  {
   "cell_type": "code",
   "execution_count": 42,
   "id": "f5d05402",
   "metadata": {},
   "outputs": [
    {
     "name": "stdout",
     "output_type": "stream",
     "text": [
      "             name release_date     price  \\\n",
      "377160  Fallout 4  9 Nov, 2015  266000.0   \n",
      "\n",
      "                                        short_description  \\\n",
      "377160  Bethesda Game Studios, the award-winning creat...   \n",
      "\n",
      "                                             header_image genres  \\\n",
      "377160  https://shared.akamai.steamstatic.com/store_it...  [RPG]   \n",
      "\n",
      "                                                     tags  \\\n",
      "377160  [Single-player, Steam Achievements, Full contr...   \n",
      "\n",
      "                                              screenshots  \\\n",
      "377160  [https://shared.akamai.steamstatic.com/store_i...   \n",
      "\n",
      "                                                   movies  review_count  \\\n",
      "377160  [http://video.akamai.steamstatic.com/store_tra...        258591   \n",
      "\n",
      "       review_score_text  review_score              platforms  \\\n",
      "377160     Very Positive             7  [windows, mac, linux]   \n",
      "\n",
      "                     developers            publishers  \n",
      "377160  [Bethesda Game Studios]  [Bethesda Softworks]  \n"
     ]
    }
   ],
   "source": [
    "# Checking data untuk suatu game\n",
    "print(df[df['name'] == \"Fallout 4\"])"
   ]
  },
  {
   "cell_type": "code",
   "execution_count": 43,
   "id": "3e0b0d3e",
   "metadata": {},
   "outputs": [
    {
     "name": "stdout",
     "output_type": "stream",
     "text": [
      "                                       name  release_date     price  \\\n",
      "22370  Fallout 3 - Game of the Year Edition  17 Dec, 2009  164900.0   \n",
      "\n",
      "                                       short_description  \\\n",
      "22370  Prepare for the Future™ With Fallout 3: Game o...   \n",
      "\n",
      "                                            header_image genres  \\\n",
      "22370  https://shared.akamai.steamstatic.com/store_it...  [RPG]   \n",
      "\n",
      "                                       tags  \\\n",
      "22370  [Single-player, Family Sharing, RPG]   \n",
      "\n",
      "                                             screenshots  \\\n",
      "22370  [https://shared.akamai.steamstatic.com/store_i...   \n",
      "\n",
      "                                                  movies  review_count  \\\n",
      "22370  [http://video.akamai.steamstatic.com/store_tra...         39136   \n",
      "\n",
      "      review_score_text  review_score              platforms  \\\n",
      "22370     Very Positive             7  [windows, mac, linux]   \n",
      "\n",
      "                    developers            publishers  \n",
      "22370  [Bethesda Game Studios]  [Bethesda Softworks]  \n"
     ]
    }
   ],
   "source": [
    "print(df[df['name'] == \"Fallout 3 - Game of the Year Edition\"])"
   ]
  },
  {
   "cell_type": "code",
   "execution_count": 44,
   "id": "a3a15e6a",
   "metadata": {},
   "outputs": [
    {
     "name": "stdout",
     "output_type": "stream",
     "text": [
      "                                  name  release_date     price  \\\n",
      "22330  The Elder Scrolls IV: Oblivion   16 Jun, 2009  135999.0   \n",
      "\n",
      "                                       short_description  \\\n",
      "22330  The Elder Scrolls IV: Oblivion® Game of the Ye...   \n",
      "\n",
      "                                            header_image genres  \\\n",
      "22330  https://shared.akamai.steamstatic.com/store_it...  [RPG]   \n",
      "\n",
      "                                                    tags  \\\n",
      "22330  [Single-player, Steam Cloud, Family Sharing, RPG]   \n",
      "\n",
      "                                             screenshots  \\\n",
      "22330  [https://shared.akamai.steamstatic.com/store_i...   \n",
      "\n",
      "                                                  movies  review_count  \\\n",
      "22330  [http://video.akamai.steamstatic.com/store_tra...         39469   \n",
      "\n",
      "             review_score_text  review_score              platforms  \\\n",
      "22330  Overwhelmingly Positive             8  [windows, mac, linux]   \n",
      "\n",
      "                    developers            publishers  \n",
      "22330  [Bethesda Game Studios]  [Bethesda Softworks]  \n"
     ]
    }
   ],
   "source": [
    "print(df[df['name'] == \"The Elder Scrolls IV: Oblivion \"])"
   ]
  }
 ],
 "metadata": {
  "kernelspec": {
   "display_name": "Python 3",
   "language": "python",
   "name": "python3"
  },
  "language_info": {
   "codemirror_mode": {
    "name": "ipython",
    "version": 3
   },
   "file_extension": ".py",
   "mimetype": "text/x-python",
   "name": "python",
   "nbconvert_exporter": "python",
   "pygments_lexer": "ipython3",
   "version": "3.12.4"
  }
 },
 "nbformat": 4,
 "nbformat_minor": 5
}
